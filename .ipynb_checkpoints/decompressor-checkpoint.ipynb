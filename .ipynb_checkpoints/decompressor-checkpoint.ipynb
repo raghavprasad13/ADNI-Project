{
 "cells": [
  {
   "cell_type": "code",
   "execution_count": 4,
   "metadata": {},
   "outputs": [],
   "source": [
    "import zipfile\n",
    "import argparse\n",
    "from os import remove, rename, system, mkdir\n",
    "from os.path import join, exists\n",
    "from glob import glob\n",
    "import shutil"
   ]
  },
  {
   "cell_type": "code",
   "execution_count": 5,
   "metadata": {},
   "outputs": [],
   "source": [
    "# ap = argparse.ArgumentParser()\n",
    "# ap.add_argument(\"-d\", \"--dataset\", required=True,\n",
    "#                 help=\"path to dataset directory\")\n",
    "# args = vars(ap.parse_args())\n",
    "\n",
    "# if args['dataset'][-1] == '/':\n",
    "#     args['dataset'] = args['dataset'][:len(args['dataset'])-1]\n",
    "\n",
    "# dataset_path = args['dataset']\n",
    "dataset_path = join('..', 'Data', 'CN', 'PiB')"
   ]
  },
  {
   "cell_type": "code",
   "execution_count": 6,
   "metadata": {},
   "outputs": [],
   "source": [
    "for zfile in glob(join(dataset_path, '*.zip')):\n",
    "    with zipfile.ZipFile(zfile, 'r') as zf:\n",
    "        try:\n",
    "            if zfile.split('/')[-1].split('.')[0].split('_')[-1] != 'metadata':\n",
    "                zf.extractall(join(dataset_path,\n",
    "                                   zfile.split('/')[-1].split('.')[0]))\n",
    "            else:\n",
    "                zf.extractall(join(dataset_path, 'Metadata'))\n",
    "        except zipfile.BadZipFile:\n",
    "            print('WARNING: Bad zip file,', zfile.split('/')[-1])\n",
    "        except FileNotFoundError:\n",
    "            print('ERROR: File ', zfile, 'not found')\n",
    "        finally:\n",
    "            if exists(zfile):\n",
    "                remove(zfile)"
   ]
  },
  {
   "cell_type": "code",
   "execution_count": 15,
   "metadata": {},
   "outputs": [
    {
     "name": "stdout",
     "output_type": "stream",
     "text": [
      "005_S_0223~2008-05-16_13_43_00.0~I109969\n",
      "005_S_0223~2009-08-05_14_50_02.0~I152523\n",
      "024_S_0985~2007-11-06_08_45_26.0~I81070\n",
      "024_S_0985~2008-11-03_11_50_37.0~I125133\n",
      "024_S_0985~2009-11-04_09_50_24.0~I158284\n",
      "024_S_1063~2007-11-20_09_26_22.0~I82915\n",
      "024_S_1063~2009-11-18_09_52_32.0~I159521\n",
      "024_S_1063~2008-11-17_09_55_31.0~I127123\n",
      "137_S_0972~2007-12-11_14_57_20.0~I84635\n",
      "137_S_0972~2008-12-09_14_25_17.0~I129961\n",
      "137_S_0972~2009-12-02_10_10_36.0~I160022\n",
      "006_S_0498~2008-10-21_06_32_06.0~I123315\n",
      "006_S_0498~2007-09-25_06_42_05.0~I75520\n"
     ]
    }
   ],
   "source": [
    "for directory in glob(join(dataset_path, '*')):\n",
    "    if directory.split('/')[-1] == 'Metadata':\n",
    "        continue\n",
    "    for subject in glob(join(directory, '*', '*')):    # a subject directory may have multiple scans \n",
    "        subject_dir = subject.split('/')[-1]\n",
    "        for date in glob(join(subject, '*', '*')):\n",
    "            date_dir = date.split('/')[-1]\n",
    "            for identifier in glob(join(date, '*')):\n",
    "                identifier_dir = identifier.split('/')[-1]\n",
    "                frames = ' '.join(glob(join(identifier, '*.nii')))\n",
    "                new_dir_name = '~'.join([subject_dir, date_dir, identifier_dir])\n",
    "                mkdir(join(dataset_path, new_dir_name))\n",
    "                system('fslmerge -t '+join(dataset_path, new_dir_name, 'combined')+\" \"+frames)\n",
    "#         for identifier in glob(join(subject, '*', '*', '*')):\n",
    "#             identifier_num = identifier.split('/')[-1]\n",
    "#             # print(glob(join(identifier, '*.nii')))\n",
    "#             frames = ' '.join(glob(join(identifier, '*.nii')))\n",
    "#             # print(frames)\n",
    "#             # exit()\n",
    "#             system('fslmerge -t '+subject+'/combined '+frames)\n",
    "#         rename(subject, subject+'_'+identifier_num)\n",
    "#         shutil.move(subject+'_'+identifier_num, dataset_path)"
   ]
  },
  {
   "cell_type": "code",
   "execution_count": null,
   "metadata": {},
   "outputs": [],
   "source": []
  }
 ],
 "metadata": {
  "kernelspec": {
   "display_name": "Python 3",
   "language": "python",
   "name": "python3"
  },
  "language_info": {
   "codemirror_mode": {
    "name": "ipython",
    "version": 3
   },
   "file_extension": ".py",
   "mimetype": "text/x-python",
   "name": "python",
   "nbconvert_exporter": "python",
   "pygments_lexer": "ipython3",
   "version": "3.8.3"
  }
 },
 "nbformat": 4,
 "nbformat_minor": 4
}
