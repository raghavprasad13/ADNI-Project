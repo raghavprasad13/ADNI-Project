{
 "metadata": {
  "language_info": {
   "codemirror_mode": {
    "name": "ipython",
    "version": 3
   },
   "file_extension": ".py",
   "mimetype": "text/x-python",
   "name": "python",
   "nbconvert_exporter": "python",
   "pygments_lexer": "ipython3",
   "version": "3.8.7-final"
  },
  "orig_nbformat": 2,
  "kernelspec": {
   "name": "python38364bitcc5c8b56085b417f809a143dd9df7b73",
   "display_name": "Python 3.8.3 64-bit",
   "language": "python"
  }
 },
 "nbformat": 4,
 "nbformat_minor": 2,
 "cells": [
  {
   "cell_type": "code",
   "execution_count": 1,
   "metadata": {},
   "outputs": [],
   "source": [
    "import pandas as pd\n",
    "from os.path import join, expanduser\n",
    "from glob import glob\n",
    "import xml.etree.ElementTree as ET"
   ]
  },
  {
   "cell_type": "code",
   "execution_count": 2,
   "metadata": {},
   "outputs": [],
   "source": [
    "home = expanduser('~')\n",
    "\n",
    "demog_csv_path = join(home, 'Downloads', 'PTDEMOG.csv')\n",
    "df = pd.read_csv(demog_csv_path)\n",
    "df['Category'] = None"
   ]
  },
  {
   "cell_type": "code",
   "execution_count": 3,
   "metadata": {},
   "outputs": [],
   "source": [
    "df_phases = pd.unique(df['Phase']).tolist()"
   ]
  },
  {
   "cell_type": "code",
   "execution_count": 4,
   "metadata": {},
   "outputs": [],
   "source": [
    "def find_xml(xml_file_list, subject, identifier):\n",
    "    for xml_file_path in xml_file_list:\n",
    "        xml_file = xml_file_path.split('/')[-1]\n",
    "        if subject in xml_file and identifier in xml_file:\n",
    "            return xml_file_path\n",
    "\n",
    "    return None"
   ]
  },
  {
   "cell_type": "code",
   "execution_count": 5,
   "metadata": {},
   "outputs": [],
   "source": [
    "dataset_path = join(home, 'Work', 'ADNI_Project', 'Data_revision')\n",
    "categories = ['AD', 'CN', 'MCI']\n",
    "tracers = ['AV45', 'PiB']\n",
    "\n",
    "patients_searched = []\n",
    "select_indices = []\n",
    "\n",
    "for category in categories:\n",
    "    for tracer in tracers:\n",
    "        scan_dirs = glob(join(dataset_path, category, tracer, '*'))\n",
    "        scan_dirs = list(filter(lambda path: 'Metadata' not in path, scan_dirs))\n",
    "        scan_dirs = list(filter(lambda path: 'stats' not in path, scan_dirs))\n",
    "\n",
    "        metadata_dir = join(dataset_path, category, tracer, 'Metadata', 'ADNI')\n",
    "        metadata_files = glob(join(metadata_dir, '*.xml'))\n",
    "\n",
    "        phase = ''\n",
    "\n",
    "        # print(scan_dirs[:5])\n",
    "        # continue\n",
    "        for scan_dir in scan_dirs:\n",
    "            scan_name = scan_dir.split('/')[-1]\n",
    "            subject = scan_name.split('~')[0]\n",
    "            identifier = scan_name.split('~')[-1]\n",
    "\n",
    "            rid = int(subject.split('_')[-1])\n",
    "            metadata_xml = find_xml(metadata_files, subject, identifier)\n",
    "\n",
    "            root = ET.parse(metadata_xml).getroot()\n",
    "            phase_xml = root.findall(\".//visitIdentifier\")[0].text\n",
    "\n",
    "            for df_phase in df_phases:\n",
    "                if df_phase in phase_xml:\n",
    "                    phase = df_phase\n",
    "            try:\n",
    "                df.at[df.index[(df['Phase'] == phase) & (df['RID'] == rid)], 'Category'] = category\n",
    "                select_indices.append(df.index[(df['Phase'] == phase) & (df['RID'] == rid)].tolist()[0])\n",
    "            except IndexError:\n",
    "                pass\n",
    "                # print('Scan: ', scan_dir, '\\tPhase: ', phase, '\\tRID: ', rid)\n",
    "# select_indices"
   ]
  },
  {
   "cell_type": "code",
   "execution_count": 6,
   "metadata": {},
   "outputs": [],
   "source": [
    "sub_df = df.iloc[select_indices]\n",
    "sub_df.to_csv('demographic.csv', index=False)"
   ]
  },
  {
   "cell_type": "code",
   "execution_count": 7,
   "metadata": {},
   "outputs": [
    {
     "output_type": "stream",
     "name": "stdout",
     "text": [
      "<class 'pandas.core.frame.DataFrame'>\nInt64Index: 531 entries, 3258 to 510\nData columns (total 33 columns):\n #   Column        Non-Null Count  Dtype  \n---  ------        --------------  -----  \n 0   Phase         531 non-null    object \n 1   ID            531 non-null    int64  \n 2   RID           531 non-null    int64  \n 3   SITEID        531 non-null    int64  \n 4   VISCODE       531 non-null    object \n 5   VISCODE2      531 non-null    object \n 6   USERDATE      531 non-null    object \n 7   USERDATE2     150 non-null    object \n 8   PTSOURCE      531 non-null    int64  \n 9   PTGENDER      531 non-null    float64\n 10  PTDOBMM       531 non-null    float64\n 11  PTDOBYY       531 non-null    float64\n 12  PTHAND        531 non-null    float64\n 13  PTMARRY       531 non-null    float64\n 14  PTEDUCAT      531 non-null    float64\n 15  PTWORKHS      180 non-null    float64\n 16  PTWORK        531 non-null    object \n 17  PTWRECNT      531 non-null    object \n 18  PTNOTRT       531 non-null    float64\n 19  PTRTYR        529 non-null    object \n 20  PTHOME        531 non-null    float64\n 21  PTOTHOME      504 non-null    object \n 22  PTTLANG       531 non-null    float64\n 23  PTPLANG       531 non-null    float64\n 24  PTPSPEC       504 non-null    object \n 25  PTCOGBEG      369 non-null    float64\n 26  PTMCIBEG      8 non-null      float64\n 27  PTADBEG       155 non-null    float64\n 28  PTADDX        369 non-null    float64\n 29  PTETHCAT      531 non-null    float64\n 30  PTRACCAT      531 non-null    float64\n 31  update_stamp  531 non-null    object \n 32  Category      531 non-null    object \ndtypes: float64(17), int64(4), object(12)\nmemory usage: 141.0+ KB\n"
     ]
    }
   ],
   "source": [
    "sub_df.info()"
   ]
  },
  {
   "cell_type": "code",
   "execution_count": null,
   "metadata": {},
   "outputs": [],
   "source": []
  }
 ]
}