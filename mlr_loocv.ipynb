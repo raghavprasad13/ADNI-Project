{
 "cells": [
  {
   "cell_type": "code",
   "execution_count": null,
   "metadata": {},
   "outputs": [],
   "source": [
    "import numpy as np\n",
    "from sklearn import linear_model\n",
    "from sklearn.model_selection import KFold"
   ]
  },
  {
   "cell_type": "code",
   "execution_count": null,
   "metadata": {},
   "outputs": [],
   "source": [
    "n_samples, n_features = 10, 5\n",
    "rng = np.random.RandomState(0)\n",
    "Y = rng.randn(n_samples)\n",
    "X = rng.randn(n_samples, n_features)"
   ]
  },
  {
   "cell_type": "markdown",
   "metadata": {},
   "source": [
    "# Lasso \n",
    "alpha float, default=1.0\n",
    "\n",
    "    Constant that multiplies the L1 term. Defaults to 1.0. alpha = 0 is equivalent to an ordinary least square, solved by the LinearRegression object. For numerical reasons, using alpha = 0 with the Lasso object is not advised. Given this, you should use the LinearRegression object.\n"
   ]
  },
  {
   "cell_type": "code",
   "execution_count": null,
   "metadata": {},
   "outputs": [],
   "source": [
    "clf_lasso = linear_model.Lasso(alpha=0.1) # change increase alpha to increase regularization\n",
    "clf_lasso.fit(X,y)\n",
    "print(clf_lasso.coef_, clf_lasso.intercept_)"
   ]
  },
  {
   "cell_type": "markdown",
   "metadata": {},
   "source": [
    "# Ridge\n",
    "alpha {float, ndarray of shape (n_targets,)}, default=1.0\n",
    "\n",
    "    Regularization strength; must be a positive float. Regularization improves the conditioning of the problem and reduces the variance of the estimates. Larger values specify stronger regularization. Alpha corresponds to 1 / (2C) in other linear models such as LogisticRegression or LinearSVC. If an array is passed, penalties are assumed to be specific to the targets. Hence they must correspond in number.\n"
   ]
  },
  {
   "cell_type": "code",
   "execution_count": null,
   "metadata": {},
   "outputs": [],
   "source": [
    "clf_ridge = linear_model.Ridge(alpha=0.1)\n",
    "clf_ridge.fit(X,y)\n",
    "print(clf_ridge.coef_, clf_ridge.intercept_)"
   ]
  },
  {
   "cell_type": "markdown",
   "metadata": {},
   "source": [
    "# LOOCV"
   ]
  },
  {
   "cell_type": "code",
   "execution_count": null,
   "metadata": {},
   "outputs": [],
   "source": [
    "# clf = linear_model.Lasso(alpha=0.1)\n",
    "clf = linear_model.Ridge(alpha=1) # choose one of lasso (L1) or ridge (L2), vary alpha, and check rmse\n",
    "\n",
    "sum_sq_errors = 0\n",
    "N = len(X)\n",
    "for i in range(N):\n",
    "    X_val, y_val = np.array([X[i]]), np.array([y[i]])\n",
    "    X_train, y_train = np.delete(X, (i), axis=0), np.delete(y, (i), axis=0)\n",
    "\n",
    "    clf.fit(X_train,y_train)\n",
    "    pred_y_val = clf.predict(X_val)\n",
    "    \n",
    "    sq_error = (pred_y_val - y_val)**2\n",
    "    sum_sq_errors += sq_error\n",
    "    \n",
    "rmse_val =  np.sqrt(sum_sq_errors / N)\n",
    "print(rmse_val) # currently the dataset is random, so wouldn't make much sense"
   ]
  },
  {
   "cell_type": "markdown",
   "metadata": {},
   "source": [
    "# k-fold CV"
   ]
  },
  {
   "cell_type": "code",
   "execution_count": null,
   "metadata": {},
   "outputs": [],
   "source": [
    "# clf = linear_model.Lasso(alpha=0.1)\n",
    "clf = linear_model.Ridge(alpha=1) # choose one, vary alpha, and check rmse\n",
    "\n",
    "\n",
    "kf = KFold(n_splits=3) # 3 fold CV\n",
    "for train_index, val_index in kf.split(X):\n",
    "    X_train, X_val = X[train_index], X[val_index]\n",
    "    y_train, y_val = y[train_index], y[val_index]\n",
    "    \n",
    "    clf.fit(X_train,y_train)\n",
    "    pred_y_val = clf.predict(X_val)\n",
    "    \n",
    "    sq_error = (pred_y_val - y_val)**2\n",
    "    sum_sq_errors = np.sum(sq_error)\n",
    "    rmse_fold = np.sqrt(sum_sq_errors / N) # rmse for each fold\n",
    "    print(rmse_fold)"
   ]
  },
  {
   "cell_type": "code",
   "execution_count": null,
   "metadata": {},
   "outputs": [],
   "source": []
  }
 ],
 "metadata": {
  "kernelspec": {
   "display_name": "Python 3",
   "language": "python",
   "name": "python3"
  },
  "language_info": {
   "codemirror_mode": {
    "name": "ipython",
    "version": 3
   },
   "file_extension": ".py",
   "mimetype": "text/x-python",
   "name": "python",
   "nbconvert_exporter": "python",
   "pygments_lexer": "ipython3",
   "version": "3.6.8"
  }
 },
 "nbformat": 4,
 "nbformat_minor": 2
}
