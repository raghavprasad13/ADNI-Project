{
 "metadata": {
  "language_info": {
   "codemirror_mode": {
    "name": "ipython",
    "version": 3
   },
   "file_extension": ".py",
   "mimetype": "text/x-python",
   "name": "python",
   "nbconvert_exporter": "python",
   "pygments_lexer": "ipython3",
   "version": "3.8.5-final"
  },
  "orig_nbformat": 2,
  "kernelspec": {
   "name": "Python 3.8.5 64-bit ('venv': venv)",
   "display_name": "Python 3.8.5 64-bit ('venv': venv)",
   "metadata": {
    "interpreter": {
     "hash": "5f89e657a86e7bd0236c6c7a67783f5e879079f1630ec1e891484f5804ad3dee"
    }
   }
  }
 },
 "nbformat": 4,
 "nbformat_minor": 2,
 "cells": [
  {
   "cell_type": "code",
   "execution_count": 1,
   "metadata": {},
   "outputs": [],
   "source": [
    "from scipy.stats import kendalltau as kt\n",
    "import pandas as pd\n",
    "\n",
    "from os.path import join\n",
    "from glob import glob\n",
    "from itertools import combinations"
   ]
  },
  {
   "cell_type": "code",
   "execution_count": 2,
   "metadata": {
    "tags": []
   },
   "outputs": [
    {
     "output_type": "stream",
     "name": "stdout",
     "text": "AD_AV45   AD_FDG: 0.09972451790633609 ,  0.1048095984920142\nAD_AV45   AD_PiB: -0.03526170798898071 ,  0.566296356903393\nAD_AV45   CN_AV45: 0.16446280991735535 ,  0.007474983542615503\nAD_AV45   CN_FDG: -0.02258953168044077 ,  0.7133148897772937\nAD_AV45   CN_PiB: 0.017355371900826443 ,  0.7777313594737555\nAD_AV45   MCI_AV45: 0.04104683195592286 ,  0.5043846353495693\nAD_AV45   MCI_FDG: -0.12038567493112946 ,  0.05022831299962076\nAD_AV45   MCI_PiB: 0.017355371900826443 ,  0.7777313594737555\nAD_FDG   AD_PiB: 0.06280991735537189 ,  0.30698314865069376\nAD_FDG   CN_AV45: 0.051515151515151514 ,  0.40210433783748134\nAD_FDG   CN_FDG: 0.1559228650137741 ,  0.011212365779680595\nAD_FDG   CN_PiB: 0.051515151515151514 ,  0.40210433783748134\nAD_FDG   MCI_AV45: -0.036088154269972444 ,  0.5572330649845023\nAD_FDG   MCI_FDG: 0.04435261707988981 ,  0.470679587882218\nAD_FDG   MCI_PiB: -0.10550964187327823 ,  0.08615050524959172\nAD_PiB   CN_AV45: 0.025619834710743798 ,  0.6769021278476097\nAD_PiB   CN_FDG: -0.0865013774104683 ,  0.15945619637944053\nAD_PiB   CN_PiB: -0.009090909090909089 ,  0.8824538741339999\nAD_PiB   MCI_AV45: -0.022314049586776855 ,  0.7166592897964901\nAD_PiB   MCI_FDG: 0.049862258953168044 ,  0.41737405248896\nAD_PiB   MCI_PiB: 0.07300275482093663 ,  0.23508788948888348\nCN_AV45   CN_FDG: -0.06969696969696969 ,  0.25696768863001807\nCN_AV45   CN_PiB: -0.04297520661157025 ,  0.484570250653961\nCN_AV45   MCI_AV45: 0.10578512396694213 ,  0.0853336716358096\nCN_AV45   MCI_FDG: 0.015426997245179062 ,  0.8018816737799085\nCN_AV45   MCI_PiB: -0.06831955922865013 ,  0.266488975242242\nCN_FDG   CN_PiB: 0.036088154269972444 ,  0.5572330649845023\nCN_FDG   MCI_AV45: -0.07410468319559228 ,  0.22809652017369197\nCN_FDG   MCI_FDG: -0.04435261707988981 ,  0.470679587882218\nCN_FDG   MCI_PiB: -0.001377410468319559 ,  0.9821265577100259\nCN_PiB   MCI_AV45: 0.004407713498622589 ,  0.9428491576563589\nCN_PiB   MCI_FDG: 0.005509641873278236 ,  0.9285958287385528\nCN_PiB   MCI_PiB: 0.029752066115702476 ,  0.6284547868540739\nMCI_AV45   MCI_FDG: 0.033608815426997236 ,  0.5846322352969743\nMCI_AV45   MCI_PiB: 0.03581267217630854 ,  0.5602463014076122\nMCI_FDG   MCI_PiB: 0.05895316804407713 ,  0.3376370260256246\n"
    }
   ],
   "source": [
    "dataset_path = join('..', 'New_Data')\n",
    "\n",
    "diagnoses_paths = glob(join(dataset_path, '*'))\n",
    "radioisotopes = ['AV45', 'FDG', 'PiB']\n",
    "ranklists = dict()\n",
    "\n",
    "for diagnosis_path in diagnoses_paths:\n",
    "    diagnosis = diagnosis_path.split('/')[-1]\n",
    "    for radioisotope in radioisotopes:\n",
    "        ranklists[diagnosis+'_'+radioisotope] = pd.read_csv(join(diagnosis_path, radioisotope, 'stats', 'roi_ranking.csv'))['ROI'].tolist()\n",
    "\n",
    "li = [(key, ranklists[key]) for key in ranklists]\n",
    "\n",
    "li2 = list(combinations(li, 2))\n",
    "len(li2)\n",
    "\n",
    "for tup in li2:\n",
    "    tup1 = tup[0]\n",
    "    tup2 = tup[1]\n",
    "\n",
    "    tup1_name = tup1[0]\n",
    "    tup2_name = tup2[0]\n",
    "\n",
    "    tup1_list = tup1[1]\n",
    "    tup2_list = tup2[1]\n",
    "\n",
    "    print(tup1_name, ' ', tup2_name, end=': ')\n",
    "    tau, p = kt(tup1_list, tup2_list)\n",
    "    print(tau, ', ', p)"
   ]
  },
  {
   "cell_type": "code",
   "execution_count": null,
   "metadata": {},
   "outputs": [],
   "source": []
  }
 ]
}